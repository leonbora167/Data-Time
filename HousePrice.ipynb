{
 "cells": [
  {
   "cell_type": "code",
   "execution_count": 1,
   "metadata": {},
   "outputs": [],
   "source": [
    "#importing libraries \n",
    "import pandas as pd\n",
    "import seaborn as sns\n",
    "import numpy as np\n",
    "import matplotlib.pyplot as plt"
   ]
  },
  {
   "cell_type": "code",
   "execution_count": 2,
   "metadata": {},
   "outputs": [],
   "source": [
    "df = pd.read_csv('train.csv')"
   ]
  },
  {
   "cell_type": "code",
   "execution_count": 3,
   "metadata": {},
   "outputs": [
    {
     "name": "stdout",
     "output_type": "stream",
     "text": [
      "The 'Feature' columns in this dataset are : \n",
      "\n"
     ]
    },
    {
     "data": {
      "text/html": [
       "<div>\n",
       "<style scoped>\n",
       "    .dataframe tbody tr th:only-of-type {\n",
       "        vertical-align: middle;\n",
       "    }\n",
       "\n",
       "    .dataframe tbody tr th {\n",
       "        vertical-align: top;\n",
       "    }\n",
       "\n",
       "    .dataframe thead th {\n",
       "        text-align: right;\n",
       "    }\n",
       "</style>\n",
       "<table border=\"1\" class=\"dataframe\">\n",
       "  <thead>\n",
       "    <tr style=\"text-align: right;\">\n",
       "      <th></th>\n",
       "      <th>Id</th>\n",
       "      <th>MSSubClass</th>\n",
       "      <th>MSZoning</th>\n",
       "      <th>LotFrontage</th>\n",
       "      <th>LotArea</th>\n",
       "      <th>Street</th>\n",
       "      <th>Alley</th>\n",
       "      <th>LotShape</th>\n",
       "      <th>LandContour</th>\n",
       "      <th>Utilities</th>\n",
       "      <th>...</th>\n",
       "      <th>PoolArea</th>\n",
       "      <th>PoolQC</th>\n",
       "      <th>Fence</th>\n",
       "      <th>MiscFeature</th>\n",
       "      <th>MiscVal</th>\n",
       "      <th>MoSold</th>\n",
       "      <th>YrSold</th>\n",
       "      <th>SaleType</th>\n",
       "      <th>SaleCondition</th>\n",
       "      <th>SalePrice</th>\n",
       "    </tr>\n",
       "  </thead>\n",
       "  <tbody>\n",
       "  </tbody>\n",
       "</table>\n",
       "<p>0 rows × 81 columns</p>\n",
       "</div>"
      ],
      "text/plain": [
       "Empty DataFrame\n",
       "Columns: [Id, MSSubClass, MSZoning, LotFrontage, LotArea, Street, Alley, LotShape, LandContour, Utilities, LotConfig, LandSlope, Neighborhood, Condition1, Condition2, BldgType, HouseStyle, OverallQual, OverallCond, YearBuilt, YearRemodAdd, RoofStyle, RoofMatl, Exterior1st, Exterior2nd, MasVnrType, MasVnrArea, ExterQual, ExterCond, Foundation, BsmtQual, BsmtCond, BsmtExposure, BsmtFinType1, BsmtFinSF1, BsmtFinType2, BsmtFinSF2, BsmtUnfSF, TotalBsmtSF, Heating, HeatingQC, CentralAir, Electrical, 1stFlrSF, 2ndFlrSF, LowQualFinSF, GrLivArea, BsmtFullBath, BsmtHalfBath, FullBath, HalfBath, BedroomAbvGr, KitchenAbvGr, KitchenQual, TotRmsAbvGrd, Functional, Fireplaces, FireplaceQu, GarageType, GarageYrBlt, GarageFinish, GarageCars, GarageArea, GarageQual, GarageCond, PavedDrive, WoodDeckSF, OpenPorchSF, EnclosedPorch, 3SsnPorch, ScreenPorch, PoolArea, PoolQC, Fence, MiscFeature, MiscVal, MoSold, YrSold, SaleType, SaleCondition, SalePrice]\n",
       "Index: []\n",
       "\n",
       "[0 rows x 81 columns]"
      ]
     },
     "execution_count": 3,
     "metadata": {},
     "output_type": "execute_result"
    }
   ],
   "source": [
    "print(\"The 'Feature' columns in this dataset are : \\n\")\n",
    "df.head(0)"
   ]
  },
  {
   "cell_type": "markdown",
   "metadata": {},
   "source": [
    "### Training Data Preprocessing"
   ]
  },
  {
   "cell_type": "markdown",
   "metadata": {},
   "source": [
    "First we will convert the non null categorical features into numeric dummy ones"
   ]
  },
  {
   "cell_type": "code",
   "execution_count": 4,
   "metadata": {},
   "outputs": [],
   "source": [
    "a1 = pd.get_dummies(df['MSZoning'], columns=['MSZoning'])"
   ]
  },
  {
   "cell_type": "code",
   "execution_count": 5,
   "metadata": {},
   "outputs": [],
   "source": [
    "X = pd.DataFrame()\n",
    "X = pd.concat([X,a1], axis=1)"
   ]
  },
  {
   "cell_type": "code",
   "execution_count": 6,
   "metadata": {},
   "outputs": [],
   "source": [
    "a2 = pd.get_dummies(df['Street'], columns=['Street'])\n",
    "X = pd.concat([X, a2], axis=1)"
   ]
  },
  {
   "cell_type": "code",
   "execution_count": 7,
   "metadata": {},
   "outputs": [],
   "source": [
    "a3 = pd.get_dummies(df['LotShape'], columns=['LotShape'])\n",
    "X = pd.concat([X, a3], axis=1)"
   ]
  },
  {
   "cell_type": "code",
   "execution_count": 8,
   "metadata": {},
   "outputs": [],
   "source": [
    "a4 = pd.get_dummies(df['LandContour'], columns=['LandContour'])\n",
    "X = pd.concat([X, a4], axis=1)"
   ]
  },
  {
   "cell_type": "code",
   "execution_count": 9,
   "metadata": {},
   "outputs": [],
   "source": [
    "a5 = pd.get_dummies(df['Utilities'], columns=['Utilities'])\n",
    "X = pd.concat([X, a5], axis=1)"
   ]
  },
  {
   "cell_type": "code",
   "execution_count": 10,
   "metadata": {},
   "outputs": [],
   "source": [
    "a6 = pd.get_dummies(df['LotConfig'], columns=['LotConfig'])\n",
    "X = pd.concat([X, a6], axis=1)"
   ]
  },
  {
   "cell_type": "code",
   "execution_count": 11,
   "metadata": {},
   "outputs": [],
   "source": [
    "a7 = pd.get_dummies(df['LandSlope'], columns=['LandSlope'])\n",
    "X = pd.concat([X, a7], axis=1)"
   ]
  },
  {
   "cell_type": "code",
   "execution_count": 12,
   "metadata": {},
   "outputs": [],
   "source": [
    "a8 = pd.get_dummies(df['Neighborhood'], columns=['Neighborhood'])\n",
    "X = pd.concat([X, a8], axis=1)"
   ]
  },
  {
   "cell_type": "code",
   "execution_count": 13,
   "metadata": {},
   "outputs": [],
   "source": [
    "a9 = pd.get_dummies(df['Condition1'], columns=['Condition1'])\n",
    "X = pd.concat([X, a9], axis=1)"
   ]
  },
  {
   "cell_type": "code",
   "execution_count": 14,
   "metadata": {},
   "outputs": [],
   "source": [
    "#a10 = pd.get_dummies(df['Condition2'], columns=['Condition2'])\n",
    "#X = pd.concat([X, a10], axis=1)"
   ]
  },
  {
   "cell_type": "code",
   "execution_count": 15,
   "metadata": {},
   "outputs": [],
   "source": [
    "a11 = pd.get_dummies(df['BldgType'], columns=['BldgType'])\n",
    "X = pd.concat([X, a11], axis=1)"
   ]
  },
  {
   "cell_type": "code",
   "execution_count": 16,
   "metadata": {},
   "outputs": [],
   "source": [
    "a12 = pd.get_dummies(df['HouseStyle'], columns=['HouseStyle'])\n",
    "X = pd.concat([X, a12], axis=1)"
   ]
  },
  {
   "cell_type": "code",
   "execution_count": 17,
   "metadata": {},
   "outputs": [],
   "source": [
    "a13 = pd.get_dummies(df['RoofStyle'], columns=['RoofStyle'])\n",
    "X = pd.concat([X, a13], axis=1)"
   ]
  },
  {
   "cell_type": "code",
   "execution_count": 18,
   "metadata": {},
   "outputs": [],
   "source": [
    "a14 = pd.get_dummies(df['RoofMatl'], columns=['RoofMatl'])\n",
    "X = pd.concat([X, a14], axis=1)"
   ]
  },
  {
   "cell_type": "code",
   "execution_count": 19,
   "metadata": {},
   "outputs": [],
   "source": [
    "a15 = pd.get_dummies(df['Exterior1st'], columns=['Exterior1st'])\n",
    "X = pd.concat([X, a15], axis=1)"
   ]
  },
  {
   "cell_type": "code",
   "execution_count": 20,
   "metadata": {},
   "outputs": [],
   "source": [
    "#a16 = pd.get_dummies(df['Exterior2nd'], columns=['Exterior2nd'])\n",
    "#X = pd.concat([X, a16], axis=1)"
   ]
  },
  {
   "cell_type": "code",
   "execution_count": 21,
   "metadata": {},
   "outputs": [],
   "source": [
    "a16 = pd.get_dummies(df['ExterQual'], columns=['ExterQual'])\n",
    "X = pd.concat([X, a16], axis=1)"
   ]
  },
  {
   "cell_type": "code",
   "execution_count": 22,
   "metadata": {},
   "outputs": [],
   "source": [
    "a17 = pd.get_dummies(df['Foundation'], columns=['Foundation'])\n",
    "X = pd.concat([X, a17], axis=1)"
   ]
  },
  {
   "cell_type": "code",
   "execution_count": 23,
   "metadata": {},
   "outputs": [],
   "source": [
    "a18 = pd.get_dummies(df['Heating'], columns=['Heating'])\n",
    "X = pd.concat([X, a18], axis=1)"
   ]
  },
  {
   "cell_type": "code",
   "execution_count": 24,
   "metadata": {},
   "outputs": [],
   "source": [
    "a19 = pd.get_dummies(df['HeatingQC'], columns=['Heating'], prefix='HeatingQC')\n",
    "X = pd.concat([X, a19], axis=1)"
   ]
  },
  {
   "cell_type": "code",
   "execution_count": 25,
   "metadata": {},
   "outputs": [],
   "source": [
    "a20 = pd.get_dummies(df['CentralAir'], columns=['CentralAir'], prefix='CentralAir')\n",
    "X = pd.concat([X, a20], axis=1)"
   ]
  },
  {
   "cell_type": "code",
   "execution_count": 26,
   "metadata": {},
   "outputs": [],
   "source": [
    "a21 = pd.get_dummies(df['KitchenQual'], columns=['KitchenQual'], prefix='KitchenQual')\n",
    "X = pd.concat([X, a21], axis=1)"
   ]
  },
  {
   "cell_type": "code",
   "execution_count": 27,
   "metadata": {},
   "outputs": [],
   "source": [
    "a22 = pd.get_dummies(df['Functional'], columns=['Functional'], prefix='Functional')\n",
    "X = pd.concat([X, a22], axis=1)"
   ]
  },
  {
   "cell_type": "code",
   "execution_count": 28,
   "metadata": {},
   "outputs": [],
   "source": [
    "a23 = pd.get_dummies(df['PavedDrive'], columns=['PavedDrive'], prefix='PavedDrive')\n",
    "X = pd.concat([X, a23], axis=1)"
   ]
  },
  {
   "cell_type": "code",
   "execution_count": 29,
   "metadata": {},
   "outputs": [],
   "source": [
    "a24 = pd.get_dummies(df['SaleType'], columns=['SaleType'], prefix='SaleType')\n",
    "X = pd.concat([X, a24], axis=1)"
   ]
  },
  {
   "cell_type": "code",
   "execution_count": 30,
   "metadata": {},
   "outputs": [],
   "source": [
    "a25 = pd.get_dummies(df['SaleCondition'], columns=['SaleCondition'], prefix='SaleCondition')\n",
    "X = pd.concat([X, a25], axis=1)"
   ]
  },
  {
   "cell_type": "markdown",
   "metadata": {},
   "source": [
    "Checking NULL values graphically and iteratively"
   ]
  },
  {
   "cell_type": "code",
   "execution_count": 31,
   "metadata": {},
   "outputs": [
    {
     "data": {
      "text/plain": [
       "<matplotlib.axes._subplots.AxesSubplot at 0x1d5acff8b08>"
      ]
     },
     "execution_count": 31,
     "metadata": {},
     "output_type": "execute_result"
    },
    {
     "data": {
      "image/png": "[encoded data removed]",
      "text/plain": [
       "<Figure size 432x288 with 2 Axes>"
      ]
     },
     "metadata": {
      "needs_background": "light"
     },
     "output_type": "display_data"
    }
   ],
   "source": [
    "sns.heatmap(df.isnull())"
   ]
  },
  {
   "cell_type": "code",
   "execution_count": 32,
   "metadata": {},
   "outputs": [
    {
     "name": "stdout",
     "output_type": "stream",
     "text": [
      "Feature LotFrontage has 259 null values\n",
      "Feature Alley has 1369 null values\n",
      "Feature MasVnrType has 8 null values\n",
      "Feature MasVnrArea has 8 null values\n",
      "Feature BsmtQual has 37 null values\n",
      "Feature BsmtCond has 37 null values\n",
      "Feature BsmtExposure has 38 null values\n",
      "Feature BsmtFinType1 has 37 null values\n",
      "Feature BsmtFinType2 has 38 null values\n",
      "Feature Electrical has 1 null values\n",
      "Feature FireplaceQu has 690 null values\n",
      "Feature GarageType has 81 null values\n",
      "Feature GarageYrBlt has 81 null values\n",
      "Feature GarageFinish has 81 null values\n",
      "Feature GarageQual has 81 null values\n",
      "Feature GarageCond has 81 null values\n",
      "Feature PoolQC has 1453 null values\n",
      "Feature Fence has 1179 null values\n",
      "Feature MiscFeature has 1406 null values\n"
     ]
    }
   ],
   "source": [
    "for index, i in enumerate(df.columns):\n",
    "        if(df.isnull().sum()[index] > 0):\n",
    "            print(\"Feature {} has {} null values\".format(i,df.isnull().sum()[index]))"
   ]
  },
  {
   "cell_type": "markdown",
   "metadata": {},
   "source": [
    "The attributes which have too many null values wont be used anyhow like\n",
    "Alley FireplaceQu PoolQC Fence MiscFeature"
   ]
  },
  {
   "cell_type": "code",
   "execution_count": 33,
   "metadata": {},
   "outputs": [
    {
     "data": {
      "text/plain": [
       "numpy.float64"
      ]
     },
     "execution_count": 33,
     "metadata": {},
     "output_type": "execute_result"
    }
   ],
   "source": [
    "type(df['LotFrontage'][3])"
   ]
  },
  {
   "cell_type": "code",
   "execution_count": 34,
   "metadata": {},
   "outputs": [],
   "source": [
    "# LotFrontage has 259 null values\n",
    "# we will be using the median here because of presence of outliers\n",
    "df['LotFrontage'].fillna((df['LotFrontage'].median()),inplace=True)"
   ]
  },
  {
   "cell_type": "code",
   "execution_count": 35,
   "metadata": {},
   "outputs": [
    {
     "data": {
      "text/plain": [
       "0"
      ]
     },
     "execution_count": 35,
     "metadata": {},
     "output_type": "execute_result"
    }
   ],
   "source": [
    "df['LotFrontage'].isnull().sum()"
   ]
  },
  {
   "cell_type": "code",
   "execution_count": 36,
   "metadata": {},
   "outputs": [],
   "source": [
    "a = df['LotFrontage']\n",
    "X = pd.concat([X, a], axis=1)"
   ]
  },
  {
   "cell_type": "code",
   "execution_count": 37,
   "metadata": {},
   "outputs": [
    {
     "data": {
      "text/plain": [
       "[<matplotlib.lines.Line2D at 0x1d5ade01508>]"
      ]
     },
     "execution_count": 37,
     "metadata": {},
     "output_type": "execute_result"
    },
    {
     "data": {
      "image/png": "[encoded data removed]",
      "text/plain": [
       "<Figure size 432x288 with 1 Axes>"
      ]
     },
     "metadata": {
      "needs_background": "light"
     },
     "output_type": "display_data"
    }
   ],
   "source": [
    "plt.plot(np.arange(0,1460),df['MasVnrArea'])"
   ]
  },
  {
   "cell_type": "code",
   "execution_count": 38,
   "metadata": {},
   "outputs": [],
   "source": [
    "df['MasVnrArea'].fillna((df['MasVnrArea'].mean()), inplace=True)"
   ]
  },
  {
   "cell_type": "code",
   "execution_count": 39,
   "metadata": {},
   "outputs": [
    {
     "data": {
      "text/plain": [
       "0"
      ]
     },
     "execution_count": 39,
     "metadata": {},
     "output_type": "execute_result"
    }
   ],
   "source": [
    "df['MasVnrArea'].isnull().sum()"
   ]
  },
  {
   "cell_type": "code",
   "execution_count": 40,
   "metadata": {},
   "outputs": [],
   "source": [
    "a = df['MasVnrArea']\n",
    "X = pd.concat([X, a], axis=1)"
   ]
  },
  {
   "cell_type": "code",
   "execution_count": 41,
   "metadata": {},
   "outputs": [],
   "source": [
    "df['GarageYrBlt'].fillna((df['GarageYrBlt'].mean()), inplace=True)"
   ]
  },
  {
   "cell_type": "code",
   "execution_count": 42,
   "metadata": {},
   "outputs": [],
   "source": [
    "a = df['GarageYrBlt']\n",
    "X = pd.concat([X, a], axis=1)"
   ]
  },
  {
   "cell_type": "code",
   "execution_count": 43,
   "metadata": {},
   "outputs": [],
   "source": [
    "from sklearn_pandas import CategoricalImputer\n",
    "imputer = CategoricalImputer()"
   ]
  },
  {
   "cell_type": "code",
   "execution_count": 44,
   "metadata": {},
   "outputs": [],
   "source": [
    "p1 = imputer.fit_transform(df['MasVnrType'])\n",
    "p1 = pd.DataFrame(p1, columns=['MasVnrType'])\n",
    "p1 = pd.get_dummies(p1['MasVnrType'], columns=['MasVnrType'], prefix = 'MasVnrArea')\n",
    "X = pd.concat([X, p1], axis=1)"
   ]
  },
  {
   "cell_type": "code",
   "execution_count": 45,
   "metadata": {},
   "outputs": [],
   "source": [
    "p1 = imputer.fit_transform(df['BsmtQual'])\n",
    "p1 = pd.DataFrame(p1, columns=['BsmtQual'])\n",
    "p1 = pd.get_dummies(p1['BsmtQual'], columns=['BsmtQual'], prefix = 'BsmtQual')\n",
    "X = pd.concat([X, p1], axis=1)"
   ]
  },
  {
   "cell_type": "code",
   "execution_count": 46,
   "metadata": {},
   "outputs": [],
   "source": [
    "p1 = imputer.fit_transform(df['BsmtCond'])\n",
    "p1 = pd.DataFrame(p1, columns=['BsmtCond'])\n",
    "p1 = pd.get_dummies(p1['BsmtCond'], columns=['BsmtCond'], prefix = 'BsmtCond')\n",
    "X = pd.concat([X, p1], axis=1)"
   ]
  },
  {
   "cell_type": "code",
   "execution_count": 47,
   "metadata": {},
   "outputs": [],
   "source": [
    "p1 = imputer.fit_transform(df['BsmtExposure'])\n",
    "p1 = pd.DataFrame(p1, columns=['BsmtExposure'])\n",
    "p1 = pd.get_dummies(p1['BsmtExposure'], columns=['BsmtExposure'], prefix = 'BsmtExposure')\n",
    "X = pd.concat([X, p1], axis=1)"
   ]
  },
  {
   "cell_type": "code",
   "execution_count": 48,
   "metadata": {},
   "outputs": [],
   "source": [
    "p1 = imputer.fit_transform(df['BsmtFinType1'])\n",
    "p1 = pd.DataFrame(p1, columns=['BsmtFinType1'])\n",
    "p1 = pd.get_dummies(p1['BsmtFinType1'], columns=['BsmtFinType1'], prefix = 'BsmtFinType1')\n",
    "X = pd.concat([X, p1], axis=1)"
   ]
  },
  {
   "cell_type": "code",
   "execution_count": 49,
   "metadata": {},
   "outputs": [],
   "source": [
    "p1 = imputer.fit_transform(df['BsmtFinType2'])\n",
    "p1 = pd.DataFrame(p1, columns=['BsmtFinType2'])\n",
    "p1 = pd.get_dummies(p1['BsmtFinType2'], columns=['BsmtFinType2'], prefix = 'BsmtFinType2')\n",
    "X = pd.concat([X, p1], axis=1)"
   ]
  },
  {
   "cell_type": "code",
   "execution_count": 50,
   "metadata": {},
   "outputs": [],
   "source": [
    "p1 = imputer.fit_transform(df['Electrical'])\n",
    "p1 = pd.DataFrame(p1, columns=['Electrical'])\n",
    "p1 = pd.get_dummies(p1['Electrical'], columns=['Electrical'], prefix = 'Electrical')\n",
    "X = pd.concat([X, p1], axis=1)"
   ]
  },
  {
   "cell_type": "code",
   "execution_count": 51,
   "metadata": {},
   "outputs": [],
   "source": [
    "p1 = imputer.fit_transform(df['GarageType'])\n",
    "p1 = pd.DataFrame(p1, columns=['GarageType'])\n",
    "p1 = pd.get_dummies(p1['GarageType'], columns=['GarageType'], prefix = 'GarageType')\n",
    "X = pd.concat([X, p1], axis=1)"
   ]
  },
  {
   "cell_type": "code",
   "execution_count": 52,
   "metadata": {},
   "outputs": [],
   "source": [
    "p1 = imputer.fit_transform(df['GarageFinish'])\n",
    "p1 = pd.DataFrame(p1, columns=['GarageFinish'])\n",
    "p1 = pd.get_dummies(p1['GarageFinish'], columns=['GarageFinish'], prefix = 'GarageFinish')\n",
    "X = pd.concat([X, p1], axis=1)"
   ]
  },
  {
   "cell_type": "code",
   "execution_count": 53,
   "metadata": {},
   "outputs": [],
   "source": [
    "p1 = imputer.fit_transform(df['GarageQual'])\n",
    "p1 = pd.DataFrame(p1, columns=['GarageQual'])\n",
    "p1 = pd.get_dummies(p1['GarageQual'], columns=['GarageQual'], prefix = 'GarageQual')\n",
    "X = pd.concat([X, p1], axis=1)"
   ]
  },
  {
   "cell_type": "code",
   "execution_count": 54,
   "metadata": {},
   "outputs": [],
   "source": [
    "p1 = imputer.fit_transform(df['GarageCond'])\n",
    "p1 = pd.DataFrame(p1, columns=['GarageCond'])\n",
    "p1 = pd.get_dummies(p1['GarageCond'], columns=['GarageCond'], prefix = 'GarageCond')\n",
    "X = pd.concat([X, p1], axis=1)"
   ]
  },
  {
   "cell_type": "code",
   "execution_count": 55,
   "metadata": {},
   "outputs": [
    {
     "data": {
      "text/html": [
       "<div>\n",
       "<style scoped>\n",
       "    .dataframe tbody tr th:only-of-type {\n",
       "        vertical-align: middle;\n",
       "    }\n",
       "\n",
       "    .dataframe tbody tr th {\n",
       "        vertical-align: top;\n",
       "    }\n",
       "\n",
       "    .dataframe thead th {\n",
       "        text-align: right;\n",
       "    }\n",
       "</style>\n",
       "<table border=\"1\" class=\"dataframe\">\n",
       "  <thead>\n",
       "    <tr style=\"text-align: right;\">\n",
       "      <th></th>\n",
       "      <th>C (all)</th>\n",
       "      <th>FV</th>\n",
       "      <th>RH</th>\n",
       "      <th>RL</th>\n",
       "      <th>RM</th>\n",
       "      <th>Grvl</th>\n",
       "      <th>Pave</th>\n",
       "      <th>IR1</th>\n",
       "      <th>IR2</th>\n",
       "      <th>IR3</th>\n",
       "      <th>...</th>\n",
       "      <th>GarageQual_Ex</th>\n",
       "      <th>GarageQual_Fa</th>\n",
       "      <th>GarageQual_Gd</th>\n",
       "      <th>GarageQual_Po</th>\n",
       "      <th>GarageQual_TA</th>\n",
       "      <th>GarageCond_Ex</th>\n",
       "      <th>GarageCond_Fa</th>\n",
       "      <th>GarageCond_Gd</th>\n",
       "      <th>GarageCond_Po</th>\n",
       "      <th>GarageCond_TA</th>\n",
       "    </tr>\n",
       "  </thead>\n",
       "  <tbody>\n",
       "    <tr>\n",
       "      <th>0</th>\n",
       "      <td>0</td>\n",
       "      <td>0</td>\n",
       "      <td>0</td>\n",
       "      <td>1</td>\n",
       "      <td>0</td>\n",
       "      <td>0</td>\n",
       "      <td>1</td>\n",
       "      <td>0</td>\n",
       "      <td>0</td>\n",
       "      <td>0</td>\n",
       "      <td>...</td>\n",
       "      <td>0</td>\n",
       "      <td>0</td>\n",
       "      <td>0</td>\n",
       "      <td>0</td>\n",
       "      <td>1</td>\n",
       "      <td>0</td>\n",
       "      <td>0</td>\n",
       "      <td>0</td>\n",
       "      <td>0</td>\n",
       "      <td>1</td>\n",
       "    </tr>\n",
       "    <tr>\n",
       "      <th>1</th>\n",
       "      <td>0</td>\n",
       "      <td>0</td>\n",
       "      <td>0</td>\n",
       "      <td>1</td>\n",
       "      <td>0</td>\n",
       "      <td>0</td>\n",
       "      <td>1</td>\n",
       "      <td>0</td>\n",
       "      <td>0</td>\n",
       "      <td>0</td>\n",
       "      <td>...</td>\n",
       "      <td>0</td>\n",
       "      <td>0</td>\n",
       "      <td>0</td>\n",
       "      <td>0</td>\n",
       "      <td>1</td>\n",
       "      <td>0</td>\n",
       "      <td>0</td>\n",
       "      <td>0</td>\n",
       "      <td>0</td>\n",
       "      <td>1</td>\n",
       "    </tr>\n",
       "    <tr>\n",
       "      <th>2</th>\n",
       "      <td>0</td>\n",
       "      <td>0</td>\n",
       "      <td>0</td>\n",
       "      <td>1</td>\n",
       "      <td>0</td>\n",
       "      <td>0</td>\n",
       "      <td>1</td>\n",
       "      <td>1</td>\n",
       "      <td>0</td>\n",
       "      <td>0</td>\n",
       "      <td>...</td>\n",
       "      <td>0</td>\n",
       "      <td>0</td>\n",
       "      <td>0</td>\n",
       "      <td>0</td>\n",
       "      <td>1</td>\n",
       "      <td>0</td>\n",
       "      <td>0</td>\n",
       "      <td>0</td>\n",
       "      <td>0</td>\n",
       "      <td>1</td>\n",
       "    </tr>\n",
       "    <tr>\n",
       "      <th>3</th>\n",
       "      <td>0</td>\n",
       "      <td>0</td>\n",
       "      <td>0</td>\n",
       "      <td>1</td>\n",
       "      <td>0</td>\n",
       "      <td>0</td>\n",
       "      <td>1</td>\n",
       "      <td>1</td>\n",
       "      <td>0</td>\n",
       "      <td>0</td>\n",
       "      <td>...</td>\n",
       "      <td>0</td>\n",
       "      <td>0</td>\n",
       "      <td>0</td>\n",
       "      <td>0</td>\n",
       "      <td>1</td>\n",
       "      <td>0</td>\n",
       "      <td>0</td>\n",
       "      <td>0</td>\n",
       "      <td>0</td>\n",
       "      <td>1</td>\n",
       "    </tr>\n",
       "    <tr>\n",
       "      <th>4</th>\n",
       "      <td>0</td>\n",
       "      <td>0</td>\n",
       "      <td>0</td>\n",
       "      <td>1</td>\n",
       "      <td>0</td>\n",
       "      <td>0</td>\n",
       "      <td>1</td>\n",
       "      <td>1</td>\n",
       "      <td>0</td>\n",
       "      <td>0</td>\n",
       "      <td>...</td>\n",
       "      <td>0</td>\n",
       "      <td>0</td>\n",
       "      <td>0</td>\n",
       "      <td>0</td>\n",
       "      <td>1</td>\n",
       "      <td>0</td>\n",
       "      <td>0</td>\n",
       "      <td>0</td>\n",
       "      <td>0</td>\n",
       "      <td>1</td>\n",
       "    </tr>\n",
       "    <tr>\n",
       "      <th>...</th>\n",
       "      <td>...</td>\n",
       "      <td>...</td>\n",
       "      <td>...</td>\n",
       "      <td>...</td>\n",
       "      <td>...</td>\n",
       "      <td>...</td>\n",
       "      <td>...</td>\n",
       "      <td>...</td>\n",
       "      <td>...</td>\n",
       "      <td>...</td>\n",
       "      <td>...</td>\n",
       "      <td>...</td>\n",
       "      <td>...</td>\n",
       "      <td>...</td>\n",
       "      <td>...</td>\n",
       "      <td>...</td>\n",
       "      <td>...</td>\n",
       "      <td>...</td>\n",
       "      <td>...</td>\n",
       "      <td>...</td>\n",
       "      <td>...</td>\n",
       "    </tr>\n",
       "    <tr>\n",
       "      <th>1455</th>\n",
       "      <td>0</td>\n",
       "      <td>0</td>\n",
       "      <td>0</td>\n",
       "      <td>1</td>\n",
       "      <td>0</td>\n",
       "      <td>0</td>\n",
       "      <td>1</td>\n",
       "      <td>0</td>\n",
       "      <td>0</td>\n",
       "      <td>0</td>\n",
       "      <td>...</td>\n",
       "      <td>0</td>\n",
       "      <td>0</td>\n",
       "      <td>0</td>\n",
       "      <td>0</td>\n",
       "      <td>1</td>\n",
       "      <td>0</td>\n",
       "      <td>0</td>\n",
       "      <td>0</td>\n",
       "      <td>0</td>\n",
       "      <td>1</td>\n",
       "    </tr>\n",
       "    <tr>\n",
       "      <th>1456</th>\n",
       "      <td>0</td>\n",
       "      <td>0</td>\n",
       "      <td>0</td>\n",
       "      <td>1</td>\n",
       "      <td>0</td>\n",
       "      <td>0</td>\n",
       "      <td>1</td>\n",
       "      <td>0</td>\n",
       "      <td>0</td>\n",
       "      <td>0</td>\n",
       "      <td>...</td>\n",
       "      <td>0</td>\n",
       "      <td>0</td>\n",
       "      <td>0</td>\n",
       "      <td>0</td>\n",
       "      <td>1</td>\n",
       "      <td>0</td>\n",
       "      <td>0</td>\n",
       "      <td>0</td>\n",
       "      <td>0</td>\n",
       "      <td>1</td>\n",
       "    </tr>\n",
       "    <tr>\n",
       "      <th>1457</th>\n",
       "      <td>0</td>\n",
       "      <td>0</td>\n",
       "      <td>0</td>\n",
       "      <td>1</td>\n",
       "      <td>0</td>\n",
       "      <td>0</td>\n",
       "      <td>1</td>\n",
       "      <td>0</td>\n",
       "      <td>0</td>\n",
       "      <td>0</td>\n",
       "      <td>...</td>\n",
       "      <td>0</td>\n",
       "      <td>0</td>\n",
       "      <td>0</td>\n",
       "      <td>0</td>\n",
       "      <td>1</td>\n",
       "      <td>0</td>\n",
       "      <td>0</td>\n",
       "      <td>0</td>\n",
       "      <td>0</td>\n",
       "      <td>1</td>\n",
       "    </tr>\n",
       "    <tr>\n",
       "      <th>1458</th>\n",
       "      <td>0</td>\n",
       "      <td>0</td>\n",
       "      <td>0</td>\n",
       "      <td>1</td>\n",
       "      <td>0</td>\n",
       "      <td>0</td>\n",
       "      <td>1</td>\n",
       "      <td>0</td>\n",
       "      <td>0</td>\n",
       "      <td>0</td>\n",
       "      <td>...</td>\n",
       "      <td>0</td>\n",
       "      <td>0</td>\n",
       "      <td>0</td>\n",
       "      <td>0</td>\n",
       "      <td>1</td>\n",
       "      <td>0</td>\n",
       "      <td>0</td>\n",
       "      <td>0</td>\n",
       "      <td>0</td>\n",
       "      <td>1</td>\n",
       "    </tr>\n",
       "    <tr>\n",
       "      <th>1459</th>\n",
       "      <td>0</td>\n",
       "      <td>0</td>\n",
       "      <td>0</td>\n",
       "      <td>1</td>\n",
       "      <td>0</td>\n",
       "      <td>0</td>\n",
       "      <td>1</td>\n",
       "      <td>0</td>\n",
       "      <td>0</td>\n",
       "      <td>0</td>\n",
       "      <td>...</td>\n",
       "      <td>0</td>\n",
       "      <td>0</td>\n",
       "      <td>0</td>\n",
       "      <td>0</td>\n",
       "      <td>1</td>\n",
       "      <td>0</td>\n",
       "      <td>0</td>\n",
       "      <td>0</td>\n",
       "      <td>0</td>\n",
       "      <td>1</td>\n",
       "    </tr>\n",
       "  </tbody>\n",
       "</table>\n",
       "<p>1460 rows × 208 columns</p>\n",
       "</div>"
      ],
      "text/plain": [
       "      C (all)  FV  RH  RL  RM  Grvl  Pave  IR1  IR2  IR3  ...  GarageQual_Ex  \\\n",
       "0           0   0   0   1   0     0     1    0    0    0  ...              0   \n",
       "1           0   0   0   1   0     0     1    0    0    0  ...              0   \n",
       "2           0   0   0   1   0     0     1    1    0    0  ...              0   \n",
       "3           0   0   0   1   0     0     1    1    0    0  ...              0   \n",
       "4           0   0   0   1   0     0     1    1    0    0  ...              0   \n",
       "...       ...  ..  ..  ..  ..   ...   ...  ...  ...  ...  ...            ...   \n",
       "1455        0   0   0   1   0     0     1    0    0    0  ...              0   \n",
       "1456        0   0   0   1   0     0     1    0    0    0  ...              0   \n",
       "1457        0   0   0   1   0     0     1    0    0    0  ...              0   \n",
       "1458        0   0   0   1   0     0     1    0    0    0  ...              0   \n",
       "1459        0   0   0   1   0     0     1    0    0    0  ...              0   \n",
       "\n",
       "      GarageQual_Fa  GarageQual_Gd  GarageQual_Po  GarageQual_TA  \\\n",
       "0                 0              0              0              1   \n",
       "1                 0              0              0              1   \n",
       "2                 0              0              0              1   \n",
       "3                 0              0              0              1   \n",
       "4                 0              0              0              1   \n",
       "...             ...            ...            ...            ...   \n",
       "1455              0              0              0              1   \n",
       "1456              0              0              0              1   \n",
       "1457              0              0              0              1   \n",
       "1458              0              0              0              1   \n",
       "1459              0              0              0              1   \n",
       "\n",
       "      GarageCond_Ex  GarageCond_Fa  GarageCond_Gd  GarageCond_Po  \\\n",
       "0                 0              0              0              0   \n",
       "1                 0              0              0              0   \n",
       "2                 0              0              0              0   \n",
       "3                 0              0              0              0   \n",
       "4                 0              0              0              0   \n",
       "...             ...            ...            ...            ...   \n",
       "1455              0              0              0              0   \n",
       "1456              0              0              0              0   \n",
       "1457              0              0              0              0   \n",
       "1458              0              0              0              0   \n",
       "1459              0              0              0              0   \n",
       "\n",
       "      GarageCond_TA  \n",
       "0                 1  \n",
       "1                 1  \n",
       "2                 1  \n",
       "3                 1  \n",
       "4                 1  \n",
       "...             ...  \n",
       "1455              1  \n",
       "1456              1  \n",
       "1457              1  \n",
       "1458              1  \n",
       "1459              1  \n",
       "\n",
       "[1460 rows x 208 columns]"
      ]
     },
     "execution_count": 55,
     "metadata": {},
     "output_type": "execute_result"
    }
   ],
   "source": [
    "X"
   ]
  },
  {
   "cell_type": "markdown",
   "metadata": {},
   "source": [
    "### Testing Data Preprocessing"
   ]
  },
  {
   "cell_type": "code",
   "execution_count": 56,
   "metadata": {},
   "outputs": [],
   "source": [
    "df2 = pd.read_csv('test.csv')"
   ]
  },
  {
   "cell_type": "markdown",
   "metadata": {},
   "source": [
    "First we will convert the non null categorical features into numeric dummy ones"
   ]
  },
  {
   "cell_type": "code",
   "execution_count": 57,
   "metadata": {},
   "outputs": [],
   "source": [
    "a1 = pd.get_dummies(df2['MSZoning'], columns=['MSZoning'])\n",
    "test = pd.DataFrame()\n",
    "test = pd.concat([test, a1], axis=1)"
   ]
  },
  {
   "cell_type": "code",
   "execution_count": 58,
   "metadata": {},
   "outputs": [],
   "source": [
    "a2 = pd.get_dummies(df2['Street'], columns=['Street'])\n",
    "test = pd.concat([test, a2], axis=1)"
   ]
  },
  {
   "cell_type": "code",
   "execution_count": 59,
   "metadata": {},
   "outputs": [],
   "source": [
    "a3 = pd.get_dummies(df2['LotShape'], columns=['LotShape'])\n",
    "test = pd.concat([test, a3], axis=1)"
   ]
  },
  {
   "cell_type": "code",
   "execution_count": 60,
   "metadata": {},
   "outputs": [],
   "source": [
    "a4 = pd.get_dummies(df2['LandContour'], columns=['LandContour'])\n",
    "test = pd.concat([test, a4], axis=1)"
   ]
  },
  {
   "cell_type": "code",
   "execution_count": 61,
   "metadata": {},
   "outputs": [],
   "source": [
    "a5 = pd.get_dummies(df2['Utilities'], columns=['Utilities'])\n",
    "test = pd.concat([test, a5], axis=1)"
   ]
  },
  {
   "cell_type": "code",
   "execution_count": 62,
   "metadata": {},
   "outputs": [],
   "source": [
    "test['NoSeWa'] = 0"
   ]
  },
  {
   "cell_type": "code",
   "execution_count": 63,
   "metadata": {},
   "outputs": [],
   "source": [
    "a6 = pd.get_dummies(df2['LotConfig'], columns=['LotConfig'])\n",
    "test = pd.concat([test, a6], axis=1)"
   ]
  },
  {
   "cell_type": "code",
   "execution_count": 64,
   "metadata": {},
   "outputs": [],
   "source": [
    "a7 = pd.get_dummies(df2['LandSlope'], columns=['LandSlope'])\n",
    "test = pd.concat([test, a7], axis=1)"
   ]
  },
  {
   "cell_type": "code",
   "execution_count": 65,
   "metadata": {},
   "outputs": [],
   "source": [
    "a8 = pd.get_dummies(df2['Neighborhood'], columns=['Neighborhood'])\n",
    "test = pd.concat([test, a8], axis=1)"
   ]
  },
  {
   "cell_type": "code",
   "execution_count": 66,
   "metadata": {},
   "outputs": [],
   "source": [
    "a9 = pd.get_dummies(df2['Condition1'], columns=['Condition1'])\n",
    "test = pd.concat([test, a9], axis=1)"
   ]
  },
  {
   "cell_type": "code",
   "execution_count": 67,
   "metadata": {},
   "outputs": [],
   "source": [
    "#a10 = pd.get_dummies(df2['Condition2'], columns=['Condition2'])\n",
    "#test = pd.concat([test, a10], axis=1)"
   ]
  },
  {
   "cell_type": "code",
   "execution_count": 68,
   "metadata": {},
   "outputs": [],
   "source": [
    "a11 = pd.get_dummies(df2['BldgType'], columns=['BldgType'])\n",
    "test = pd.concat([test, a11], axis=1)"
   ]
  },
  {
   "cell_type": "code",
   "execution_count": 69,
   "metadata": {},
   "outputs": [],
   "source": [
    "a12 = pd.get_dummies(df2['HouseStyle'], columns=['HouseStyle'])\n",
    "test = pd.concat([test, a12], axis=1)"
   ]
  },
  {
   "cell_type": "code",
   "execution_count": 70,
   "metadata": {},
   "outputs": [],
   "source": [
    "test['2.5Fin'] = 0"
   ]
  },
  {
   "cell_type": "code",
   "execution_count": 71,
   "metadata": {},
   "outputs": [],
   "source": [
    "a13 = pd.get_dummies(df2['RoofStyle'], columns=['RoofStyle'])\n",
    "test = pd.concat([test, a13], axis=1)"
   ]
  },
  {
   "cell_type": "code",
   "execution_count": 72,
   "metadata": {},
   "outputs": [],
   "source": [
    "a14 = pd.get_dummies(df2['RoofMatl'], columns=['RoofMatl'])\n",
    "test = pd.concat([test, a14], axis=1)"
   ]
  },
  {
   "cell_type": "code",
   "execution_count": 73,
   "metadata": {},
   "outputs": [],
   "source": [
    "test['ClyTile'] = 0\n",
    "test['Membran'] = 0\n",
    "test['Metal'] = 0\n",
    "test['Roll'] = 0"
   ]
  },
  {
   "cell_type": "code",
   "execution_count": 74,
   "metadata": {},
   "outputs": [],
   "source": [
    "a15 = pd.get_dummies(df2['Exterior1st'], columns=['Exterior1st'])\n",
    "test = pd.concat([test, a15], axis=1)"
   ]
  },
  {
   "cell_type": "code",
   "execution_count": 75,
   "metadata": {},
   "outputs": [],
   "source": [
    "test['ImStucc'] = 0\n",
    "test['Stone'] = 0"
   ]
  },
  {
   "cell_type": "code",
   "execution_count": 76,
   "metadata": {},
   "outputs": [],
   "source": [
    "a16 = pd.get_dummies(df2['ExterQual'], columns=['ExterQual'])\n",
    "test = pd.concat([test, a16], axis=1)"
   ]
  },
  {
   "cell_type": "code",
   "execution_count": 77,
   "metadata": {},
   "outputs": [],
   "source": [
    "a17 = pd.get_dummies(df2['Foundation'], columns=['Foundation'])\n",
    "test = pd.concat([test, a17], axis=1)"
   ]
  },
  {
   "cell_type": "code",
   "execution_count": 78,
   "metadata": {},
   "outputs": [],
   "source": [
    "a18 = pd.get_dummies(df2['Heating'], columns=['Heating'])\n",
    "test = pd.concat([test, a18], axis=1)"
   ]
  },
  {
   "cell_type": "code",
   "execution_count": 79,
   "metadata": {},
   "outputs": [],
   "source": [
    "test['Floor'] = 0\n",
    "test['OthW'] = 0"
   ]
  },
  {
   "cell_type": "code",
   "execution_count": 80,
   "metadata": {},
   "outputs": [],
   "source": [
    "a19 = pd.get_dummies(df2['HeatingQC'], columns=['Heating'], prefix='HeatingQC')\n",
    "test = pd.concat([test, a19], axis=1)"
   ]
  },
  {
   "cell_type": "code",
   "execution_count": 81,
   "metadata": {},
   "outputs": [],
   "source": [
    "a20 = pd.get_dummies(df2['CentralAir'], columns=['CentralAir'], prefix='CentralAir')\n",
    "test = pd.concat([test, a20], axis=1)"
   ]
  },
  {
   "cell_type": "code",
   "execution_count": 82,
   "metadata": {},
   "outputs": [],
   "source": [
    "a21 = pd.get_dummies(df2['KitchenQual'], columns=['KitchenQual'], prefix='KitchenQual')\n",
    "test = pd.concat([test, a21], axis=1)"
   ]
  },
  {
   "cell_type": "code",
   "execution_count": 83,
   "metadata": {},
   "outputs": [],
   "source": [
    "a22 = pd.get_dummies(df2['Functional'], columns=['Functional'], prefix='Functional')\n",
    "test = pd.concat([test, a22], axis=1)"
   ]
  },
  {
   "cell_type": "code",
   "execution_count": 84,
   "metadata": {},
   "outputs": [],
   "source": [
    "a23 = pd.get_dummies(df2['PavedDrive'], columns=['PavedDrive'], prefix='PavedDrive')\n",
    "test = pd.concat([test, a23], axis=1)"
   ]
  },
  {
   "cell_type": "code",
   "execution_count": 85,
   "metadata": {},
   "outputs": [],
   "source": [
    "a24 = pd.get_dummies(df2['SaleType'], columns=['SaleType'], prefix='SaleType')\n",
    "test = pd.concat([test, a24], axis=1)"
   ]
  },
  {
   "cell_type": "code",
   "execution_count": 86,
   "metadata": {},
   "outputs": [],
   "source": [
    "a25 = pd.get_dummies(df2['SaleCondition'], columns=['SaleCondition'], prefix='SaleCondition')\n",
    "test = pd.concat([test, a25], axis=1)"
   ]
  },
  {
   "cell_type": "code",
   "execution_count": 87,
   "metadata": {},
   "outputs": [
    {
     "data": {
      "text/plain": [
       "227"
      ]
     },
     "execution_count": 87,
     "metadata": {},
     "output_type": "execute_result"
    }
   ],
   "source": [
    "df2['LotFrontage'].isnull().sum()"
   ]
  },
  {
   "cell_type": "code",
   "execution_count": 88,
   "metadata": {},
   "outputs": [],
   "source": [
    "df2['LotFrontage'].fillna((df2['LotFrontage'].median()),inplace=True)"
   ]
  },
  {
   "cell_type": "code",
   "execution_count": 89,
   "metadata": {},
   "outputs": [
    {
     "data": {
      "text/plain": [
       "0"
      ]
     },
     "execution_count": 89,
     "metadata": {},
     "output_type": "execute_result"
    }
   ],
   "source": [
    "df2['LotFrontage'].isnull().sum()"
   ]
  },
  {
   "cell_type": "code",
   "execution_count": 90,
   "metadata": {},
   "outputs": [],
   "source": [
    "a = df2['LotFrontage']\n",
    "test = pd.concat([test, a], axis=1)"
   ]
  },
  {
   "cell_type": "code",
   "execution_count": 91,
   "metadata": {},
   "outputs": [],
   "source": [
    "df2['MasVnrArea'].fillna((df2['MasVnrArea'].mean()), inplace=True)"
   ]
  },
  {
   "cell_type": "code",
   "execution_count": 92,
   "metadata": {},
   "outputs": [],
   "source": [
    "a = df2['MasVnrArea']\n",
    "test = pd.concat([test, a], axis=1)"
   ]
  },
  {
   "cell_type": "code",
   "execution_count": 93,
   "metadata": {},
   "outputs": [],
   "source": [
    "df2['GarageYrBlt'].fillna((df2['GarageYrBlt'].mean()), inplace=True)"
   ]
  },
  {
   "cell_type": "code",
   "execution_count": 94,
   "metadata": {},
   "outputs": [],
   "source": [
    "a = df2['GarageYrBlt']\n",
    "test = pd.concat([test, a], axis=1)"
   ]
  },
  {
   "cell_type": "code",
   "execution_count": 95,
   "metadata": {},
   "outputs": [],
   "source": [
    "p1 = imputer.fit_transform(df2['MasVnrType'])\n",
    "p1 = pd.DataFrame(p1, columns=['MasVnrType'])\n",
    "p1 = pd.get_dummies(p1['MasVnrType'], columns=['MasVnrType'], prefix = 'MasVnrArea')\n",
    "test = pd.concat([test, p1], axis=1)"
   ]
  },
  {
   "cell_type": "code",
   "execution_count": 96,
   "metadata": {},
   "outputs": [],
   "source": [
    "p1 = imputer.fit_transform(df2['BsmtQual'])\n",
    "p1 = pd.DataFrame(p1, columns=['BsmtQual'])\n",
    "p1 = pd.get_dummies(p1['BsmtQual'], columns=['BsmtQual'], prefix = 'BsmtQual')\n",
    "test = pd.concat([test, p1], axis=1)"
   ]
  },
  {
   "cell_type": "code",
   "execution_count": 97,
   "metadata": {},
   "outputs": [],
   "source": [
    "p1 = imputer.fit_transform(df2['BsmtCond'])\n",
    "p1 = pd.DataFrame(p1, columns=['BsmtCond'])\n",
    "p1 = pd.get_dummies(p1['BsmtCond'], columns=['BsmtCond'], prefix = 'BsmtCond')\n",
    "test = pd.concat([test, p1], axis=1)"
   ]
  },
  {
   "cell_type": "code",
   "execution_count": 98,
   "metadata": {},
   "outputs": [],
   "source": [
    "p1 = imputer.fit_transform(df2['BsmtExposure'])\n",
    "p1 = pd.DataFrame(p1, columns=['BsmtExposure'])\n",
    "p1 = pd.get_dummies(p1['BsmtExposure'], columns=['BsmtExposure'], prefix = 'BsmtExposure')\n",
    "test = pd.concat([test, p1], axis=1)"
   ]
  },
  {
   "cell_type": "code",
   "execution_count": 99,
   "metadata": {},
   "outputs": [],
   "source": [
    "p1 = imputer.fit_transform(df2['BsmtFinType1'])\n",
    "p1 = pd.DataFrame(p1, columns=['BsmtFinType1'])\n",
    "p1 = pd.get_dummies(p1['BsmtFinType1'], columns=['BsmtFinType1'], prefix = 'BsmtFinType1')\n",
    "test = pd.concat([test, p1], axis=1)"
   ]
  },
  {
   "cell_type": "code",
   "execution_count": 100,
   "metadata": {},
   "outputs": [],
   "source": [
    "p1 = imputer.fit_transform(df2['BsmtFinType2'])\n",
    "p1 = pd.DataFrame(p1, columns=['BsmtFinType2'])\n",
    "p1 = pd.get_dummies(p1['BsmtFinType2'], columns=['BsmtFinType2'], prefix = 'BsmtFinType2')\n",
    "test = pd.concat([test, p1], axis=1)"
   ]
  },
  {
   "cell_type": "code",
   "execution_count": 101,
   "metadata": {},
   "outputs": [],
   "source": [
    "p1 = imputer.fit_transform(df2['Electrical'])\n",
    "p1 = pd.DataFrame(p1, columns=['Electrical'])\n",
    "p1 = pd.get_dummies(p1['Electrical'], columns=['Electrical'], prefix = 'Electrical')\n",
    "test = pd.concat([test, p1], axis=1)"
   ]
  },
  {
   "cell_type": "code",
   "execution_count": 102,
   "metadata": {},
   "outputs": [],
   "source": [
    "test['Electrical_Mix'] = 0"
   ]
  },
  {
   "cell_type": "code",
   "execution_count": 103,
   "metadata": {},
   "outputs": [],
   "source": [
    "p1 = imputer.fit_transform(df2['GarageType'])\n",
    "p1 = pd.DataFrame(p1, columns=['GarageType'])\n",
    "p1 = pd.get_dummies(p1['GarageType'], columns=['GarageType'], prefix = 'GarageType')\n",
    "test = pd.concat([test, p1], axis=1)"
   ]
  },
  {
   "cell_type": "code",
   "execution_count": 104,
   "metadata": {},
   "outputs": [],
   "source": [
    "p1 = imputer.fit_transform(df2['GarageFinish'])\n",
    "p1 = pd.DataFrame(p1, columns=['GarageFinish'])\n",
    "p1 = pd.get_dummies(p1['GarageFinish'], columns=['GarageFinish'], prefix = 'GarageFinish')\n",
    "test = pd.concat([test, p1], axis=1)"
   ]
  },
  {
   "cell_type": "code",
   "execution_count": 105,
   "metadata": {},
   "outputs": [],
   "source": [
    "p1 = imputer.fit_transform(df2['GarageQual'])\n",
    "p1 = pd.DataFrame(p1, columns=['GarageQual'])\n",
    "p1 = pd.get_dummies(p1['GarageQual'], columns=['GarageQual'], prefix = 'GarageQual')\n",
    "test = pd.concat([test, p1], axis=1)"
   ]
  },
  {
   "cell_type": "code",
   "execution_count": 106,
   "metadata": {},
   "outputs": [],
   "source": [
    "test['GarageQual_Ex'] = 0"
   ]
  },
  {
   "cell_type": "code",
   "execution_count": 107,
   "metadata": {},
   "outputs": [],
   "source": [
    "p1 = imputer.fit_transform(df2['GarageCond'])\n",
    "p1 = pd.DataFrame(p1, columns=['GarageCond'])\n",
    "p1 = pd.get_dummies(p1['GarageCond'], columns=['GarageCond'], prefix = 'GarageCond')\n",
    "test = pd.concat([test, p1], axis=1)"
   ]
  },
  {
   "cell_type": "code",
   "execution_count": 108,
   "metadata": {},
   "outputs": [
    {
     "data": {
      "text/html": [
       "<div>\n",
       "<style scoped>\n",
       "    .dataframe tbody tr th:only-of-type {\n",
       "        vertical-align: middle;\n",
       "    }\n",
       "\n",
       "    .dataframe tbody tr th {\n",
       "        vertical-align: top;\n",
       "    }\n",
       "\n",
       "    .dataframe thead th {\n",
       "        text-align: right;\n",
       "    }\n",
       "</style>\n",
       "<table border=\"1\" class=\"dataframe\">\n",
       "  <thead>\n",
       "    <tr style=\"text-align: right;\">\n",
       "      <th></th>\n",
       "      <th>C (all)</th>\n",
       "      <th>FV</th>\n",
       "      <th>RH</th>\n",
       "      <th>RL</th>\n",
       "      <th>RM</th>\n",
       "      <th>Grvl</th>\n",
       "      <th>Pave</th>\n",
       "      <th>IR1</th>\n",
       "      <th>IR2</th>\n",
       "      <th>IR3</th>\n",
       "      <th>...</th>\n",
       "      <th>GarageQual_Fa</th>\n",
       "      <th>GarageQual_Gd</th>\n",
       "      <th>GarageQual_Po</th>\n",
       "      <th>GarageQual_TA</th>\n",
       "      <th>GarageQual_Ex</th>\n",
       "      <th>GarageCond_Ex</th>\n",
       "      <th>GarageCond_Fa</th>\n",
       "      <th>GarageCond_Gd</th>\n",
       "      <th>GarageCond_Po</th>\n",
       "      <th>GarageCond_TA</th>\n",
       "    </tr>\n",
       "  </thead>\n",
       "  <tbody>\n",
       "    <tr>\n",
       "      <th>0</th>\n",
       "      <td>0</td>\n",
       "      <td>0</td>\n",
       "      <td>1</td>\n",
       "      <td>0</td>\n",
       "      <td>0</td>\n",
       "      <td>0</td>\n",
       "      <td>1</td>\n",
       "      <td>0</td>\n",
       "      <td>0</td>\n",
       "      <td>0</td>\n",
       "      <td>...</td>\n",
       "      <td>0</td>\n",
       "      <td>0</td>\n",
       "      <td>0</td>\n",
       "      <td>1</td>\n",
       "      <td>0</td>\n",
       "      <td>0</td>\n",
       "      <td>0</td>\n",
       "      <td>0</td>\n",
       "      <td>0</td>\n",
       "      <td>1</td>\n",
       "    </tr>\n",
       "    <tr>\n",
       "      <th>1</th>\n",
       "      <td>0</td>\n",
       "      <td>0</td>\n",
       "      <td>0</td>\n",
       "      <td>1</td>\n",
       "      <td>0</td>\n",
       "      <td>0</td>\n",
       "      <td>1</td>\n",
       "      <td>1</td>\n",
       "      <td>0</td>\n",
       "      <td>0</td>\n",
       "      <td>...</td>\n",
       "      <td>0</td>\n",
       "      <td>0</td>\n",
       "      <td>0</td>\n",
       "      <td>1</td>\n",
       "      <td>0</td>\n",
       "      <td>0</td>\n",
       "      <td>0</td>\n",
       "      <td>0</td>\n",
       "      <td>0</td>\n",
       "      <td>1</td>\n",
       "    </tr>\n",
       "    <tr>\n",
       "      <th>2</th>\n",
       "      <td>0</td>\n",
       "      <td>0</td>\n",
       "      <td>0</td>\n",
       "      <td>1</td>\n",
       "      <td>0</td>\n",
       "      <td>0</td>\n",
       "      <td>1</td>\n",
       "      <td>1</td>\n",
       "      <td>0</td>\n",
       "      <td>0</td>\n",
       "      <td>...</td>\n",
       "      <td>0</td>\n",
       "      <td>0</td>\n",
       "      <td>0</td>\n",
       "      <td>1</td>\n",
       "      <td>0</td>\n",
       "      <td>0</td>\n",
       "      <td>0</td>\n",
       "      <td>0</td>\n",
       "      <td>0</td>\n",
       "      <td>1</td>\n",
       "    </tr>\n",
       "    <tr>\n",
       "      <th>3</th>\n",
       "      <td>0</td>\n",
       "      <td>0</td>\n",
       "      <td>0</td>\n",
       "      <td>1</td>\n",
       "      <td>0</td>\n",
       "      <td>0</td>\n",
       "      <td>1</td>\n",
       "      <td>1</td>\n",
       "      <td>0</td>\n",
       "      <td>0</td>\n",
       "      <td>...</td>\n",
       "      <td>0</td>\n",
       "      <td>0</td>\n",
       "      <td>0</td>\n",
       "      <td>1</td>\n",
       "      <td>0</td>\n",
       "      <td>0</td>\n",
       "      <td>0</td>\n",
       "      <td>0</td>\n",
       "      <td>0</td>\n",
       "      <td>1</td>\n",
       "    </tr>\n",
       "    <tr>\n",
       "      <th>4</th>\n",
       "      <td>0</td>\n",
       "      <td>0</td>\n",
       "      <td>0</td>\n",
       "      <td>1</td>\n",
       "      <td>0</td>\n",
       "      <td>0</td>\n",
       "      <td>1</td>\n",
       "      <td>1</td>\n",
       "      <td>0</td>\n",
       "      <td>0</td>\n",
       "      <td>...</td>\n",
       "      <td>0</td>\n",
       "      <td>0</td>\n",
       "      <td>0</td>\n",
       "      <td>1</td>\n",
       "      <td>0</td>\n",
       "      <td>0</td>\n",
       "      <td>0</td>\n",
       "      <td>0</td>\n",
       "      <td>0</td>\n",
       "      <td>1</td>\n",
       "    </tr>\n",
       "    <tr>\n",
       "      <th>...</th>\n",
       "      <td>...</td>\n",
       "      <td>...</td>\n",
       "      <td>...</td>\n",
       "      <td>...</td>\n",
       "      <td>...</td>\n",
       "      <td>...</td>\n",
       "      <td>...</td>\n",
       "      <td>...</td>\n",
       "      <td>...</td>\n",
       "      <td>...</td>\n",
       "      <td>...</td>\n",
       "      <td>...</td>\n",
       "      <td>...</td>\n",
       "      <td>...</td>\n",
       "      <td>...</td>\n",
       "      <td>...</td>\n",
       "      <td>...</td>\n",
       "      <td>...</td>\n",
       "      <td>...</td>\n",
       "      <td>...</td>\n",
       "      <td>...</td>\n",
       "    </tr>\n",
       "    <tr>\n",
       "      <th>1454</th>\n",
       "      <td>0</td>\n",
       "      <td>0</td>\n",
       "      <td>0</td>\n",
       "      <td>0</td>\n",
       "      <td>1</td>\n",
       "      <td>0</td>\n",
       "      <td>1</td>\n",
       "      <td>0</td>\n",
       "      <td>0</td>\n",
       "      <td>0</td>\n",
       "      <td>...</td>\n",
       "      <td>0</td>\n",
       "      <td>0</td>\n",
       "      <td>0</td>\n",
       "      <td>1</td>\n",
       "      <td>0</td>\n",
       "      <td>0</td>\n",
       "      <td>0</td>\n",
       "      <td>0</td>\n",
       "      <td>0</td>\n",
       "      <td>1</td>\n",
       "    </tr>\n",
       "    <tr>\n",
       "      <th>1455</th>\n",
       "      <td>0</td>\n",
       "      <td>0</td>\n",
       "      <td>0</td>\n",
       "      <td>0</td>\n",
       "      <td>1</td>\n",
       "      <td>0</td>\n",
       "      <td>1</td>\n",
       "      <td>0</td>\n",
       "      <td>0</td>\n",
       "      <td>0</td>\n",
       "      <td>...</td>\n",
       "      <td>0</td>\n",
       "      <td>0</td>\n",
       "      <td>0</td>\n",
       "      <td>1</td>\n",
       "      <td>0</td>\n",
       "      <td>0</td>\n",
       "      <td>0</td>\n",
       "      <td>0</td>\n",
       "      <td>0</td>\n",
       "      <td>1</td>\n",
       "    </tr>\n",
       "    <tr>\n",
       "      <th>1456</th>\n",
       "      <td>0</td>\n",
       "      <td>0</td>\n",
       "      <td>0</td>\n",
       "      <td>1</td>\n",
       "      <td>0</td>\n",
       "      <td>0</td>\n",
       "      <td>1</td>\n",
       "      <td>0</td>\n",
       "      <td>0</td>\n",
       "      <td>0</td>\n",
       "      <td>...</td>\n",
       "      <td>0</td>\n",
       "      <td>0</td>\n",
       "      <td>0</td>\n",
       "      <td>1</td>\n",
       "      <td>0</td>\n",
       "      <td>0</td>\n",
       "      <td>0</td>\n",
       "      <td>0</td>\n",
       "      <td>0</td>\n",
       "      <td>1</td>\n",
       "    </tr>\n",
       "    <tr>\n",
       "      <th>1457</th>\n",
       "      <td>0</td>\n",
       "      <td>0</td>\n",
       "      <td>0</td>\n",
       "      <td>1</td>\n",
       "      <td>0</td>\n",
       "      <td>0</td>\n",
       "      <td>1</td>\n",
       "      <td>0</td>\n",
       "      <td>0</td>\n",
       "      <td>0</td>\n",
       "      <td>...</td>\n",
       "      <td>0</td>\n",
       "      <td>0</td>\n",
       "      <td>0</td>\n",
       "      <td>1</td>\n",
       "      <td>0</td>\n",
       "      <td>0</td>\n",
       "      <td>0</td>\n",
       "      <td>0</td>\n",
       "      <td>0</td>\n",
       "      <td>1</td>\n",
       "    </tr>\n",
       "    <tr>\n",
       "      <th>1458</th>\n",
       "      <td>0</td>\n",
       "      <td>0</td>\n",
       "      <td>0</td>\n",
       "      <td>1</td>\n",
       "      <td>0</td>\n",
       "      <td>0</td>\n",
       "      <td>1</td>\n",
       "      <td>0</td>\n",
       "      <td>0</td>\n",
       "      <td>0</td>\n",
       "      <td>...</td>\n",
       "      <td>0</td>\n",
       "      <td>0</td>\n",
       "      <td>0</td>\n",
       "      <td>1</td>\n",
       "      <td>0</td>\n",
       "      <td>0</td>\n",
       "      <td>0</td>\n",
       "      <td>0</td>\n",
       "      <td>0</td>\n",
       "      <td>1</td>\n",
       "    </tr>\n",
       "  </tbody>\n",
       "</table>\n",
       "<p>1459 rows × 208 columns</p>\n",
       "</div>"
      ],
      "text/plain": [
       "      C (all)  FV  RH  RL  RM  Grvl  Pave  IR1  IR2  IR3  ...  GarageQual_Fa  \\\n",
       "0           0   0   1   0   0     0     1    0    0    0  ...              0   \n",
       "1           0   0   0   1   0     0     1    1    0    0  ...              0   \n",
       "2           0   0   0   1   0     0     1    1    0    0  ...              0   \n",
       "3           0   0   0   1   0     0     1    1    0    0  ...              0   \n",
       "4           0   0   0   1   0     0     1    1    0    0  ...              0   \n",
       "...       ...  ..  ..  ..  ..   ...   ...  ...  ...  ...  ...            ...   \n",
       "1454        0   0   0   0   1     0     1    0    0    0  ...              0   \n",
       "1455        0   0   0   0   1     0     1    0    0    0  ...              0   \n",
       "1456        0   0   0   1   0     0     1    0    0    0  ...              0   \n",
       "1457        0   0   0   1   0     0     1    0    0    0  ...              0   \n",
       "1458        0   0   0   1   0     0     1    0    0    0  ...              0   \n",
       "\n",
       "      GarageQual_Gd  GarageQual_Po  GarageQual_TA  GarageQual_Ex  \\\n",
       "0                 0              0              1              0   \n",
       "1                 0              0              1              0   \n",
       "2                 0              0              1              0   \n",
       "3                 0              0              1              0   \n",
       "4                 0              0              1              0   \n",
       "...             ...            ...            ...            ...   \n",
       "1454              0              0              1              0   \n",
       "1455              0              0              1              0   \n",
       "1456              0              0              1              0   \n",
       "1457              0              0              1              0   \n",
       "1458              0              0              1              0   \n",
       "\n",
       "      GarageCond_Ex  GarageCond_Fa  GarageCond_Gd  GarageCond_Po  \\\n",
       "0                 0              0              0              0   \n",
       "1                 0              0              0              0   \n",
       "2                 0              0              0              0   \n",
       "3                 0              0              0              0   \n",
       "4                 0              0              0              0   \n",
       "...             ...            ...            ...            ...   \n",
       "1454              0              0              0              0   \n",
       "1455              0              0              0              0   \n",
       "1456              0              0              0              0   \n",
       "1457              0              0              0              0   \n",
       "1458              0              0              0              0   \n",
       "\n",
       "      GarageCond_TA  \n",
       "0                 1  \n",
       "1                 1  \n",
       "2                 1  \n",
       "3                 1  \n",
       "4                 1  \n",
       "...             ...  \n",
       "1454              1  \n",
       "1455              1  \n",
       "1456              1  \n",
       "1457              1  \n",
       "1458              1  \n",
       "\n",
       "[1459 rows x 208 columns]"
      ]
     },
     "execution_count": 108,
     "metadata": {},
     "output_type": "execute_result"
    }
   ],
   "source": [
    "test"
   ]
  },
  {
   "cell_type": "markdown",
   "metadata": {},
   "source": [
    "## Simple Linear Regression"
   ]
  },
  {
   "cell_type": "code",
   "execution_count": 145,
   "metadata": {},
   "outputs": [
    {
     "data": {
      "text/plain": [
       "LinearRegression(copy_X=True, fit_intercept=False, n_jobs=None, normalize=True)"
      ]
     },
     "execution_count": 145,
     "metadata": {},
     "output_type": "execute_result"
    }
   ],
   "source": [
    "from sklearn.linear_model import LinearRegression\n",
    "\n",
    "Y = df['SalePrice']\n",
    "model = LinearRegression(normalize=True, fit_intercept=False)\n",
    "model.fit(X, Y)\n",
    "model"
   ]
  },
  {
   "cell_type": "code",
   "execution_count": 161,
   "metadata": {},
   "outputs": [],
   "source": [
    "roll = []\n",
    "saleprice = []\n",
    "for index, i in enumerate(model.predict(test)):\n",
    "    saleprice.append(i*-1)\n",
    "    roll.append(df2['Id'][index])\n",
    "\n",
    "saleprice = pd.DataFrame(saleprice, columns=['SalePrice'])\n",
    "roll = pd.DataFrame(roll, columns = ['Id'])\n",
    "submission = pd.concat([roll, saleprice], axis=1)\n",
    "submission.to_csv('submissions.csv', index=False)"
   ]
  },
  {
   "cell_type": "markdown",
   "metadata": {},
   "source": [
    "## Gradient Boosting Regressor"
   ]
  },
  {
   "cell_type": "code",
   "execution_count": 162,
   "metadata": {},
   "outputs": [
    {
     "data": {
      "text/plain": [
       "GradientBoostingRegressor(alpha=0.9, ccp_alpha=0.0, criterion='friedman_mse',\n",
       "                          init=None, learning_rate=0.1, loss='ls', max_depth=3,\n",
       "                          max_features=None, max_leaf_nodes=None,\n",
       "                          min_impurity_decrease=0.0, min_impurity_split=None,\n",
       "                          min_samples_leaf=1, min_samples_split=2,\n",
       "                          min_weight_fraction_leaf=0.0, n_estimators=100,\n",
       "                          n_iter_no_change=None, presort='deprecated',\n",
       "                          random_state=None, subsample=1.0, tol=0.0001,\n",
       "                          validation_fraction=0.1, verbose=0, warm_start=False)"
      ]
     },
     "execution_count": 162,
     "metadata": {},
     "output_type": "execute_result"
    }
   ],
   "source": [
    "from sklearn.ensemble import GradientBoostingRegressor\n",
    "model = GradientBoostingRegressor()\n",
    "model.fit(x_train, y_train)\n",
    "model"
   ]
  },
  {
   "cell_type": "code",
   "execution_count": 166,
   "metadata": {},
   "outputs": [],
   "source": [
    "roll = []\n",
    "saleprice = []\n",
    "for index, i in enumerate(model.predict(test)):\n",
    "    saleprice.append(i)\n",
    "    roll.append(df2['Id'][index])\n",
    "\n",
    "saleprice = pd.DataFrame(saleprice, columns=['SalePrice'])\n",
    "roll = pd.DataFrame(roll, columns = ['Id'])\n",
    "submission = pd.concat([roll, saleprice], axis=1)\n",
    "submission.to_csv('submissions.csv', index=False)"
   ]
  },
  {
   "cell_type": "markdown",
   "metadata": {},
   "source": [
    "## Random Forest Regressor"
   ]
  },
  {
   "cell_type": "code",
   "execution_count": 169,
   "metadata": {},
   "outputs": [
    {
     "data": {
      "text/plain": [
       "RandomForestRegressor(bootstrap=True, ccp_alpha=0.0, criterion='mse',\n",
       "                      max_depth=None, max_features='auto', max_leaf_nodes=None,\n",
       "                      max_samples=None, min_impurity_decrease=0.0,\n",
       "                      min_impurity_split=None, min_samples_leaf=1,\n",
       "                      min_samples_split=2, min_weight_fraction_leaf=0.0,\n",
       "                      n_estimators=100, n_jobs=None, oob_score=False,\n",
       "                      random_state=None, verbose=0, warm_start=False)"
      ]
     },
     "execution_count": 169,
     "metadata": {},
     "output_type": "execute_result"
    }
   ],
   "source": [
    "from sklearn.ensemble import RandomForestRegressor\n",
    "model = RandomForestRegressor()\n",
    "model.fit(X,Y)"
   ]
  },
  {
   "cell_type": "code",
   "execution_count": 170,
   "metadata": {},
   "outputs": [],
   "source": [
    "roll = []\n",
    "saleprice = []\n",
    "for index, i in enumerate(model.predict(test)):\n",
    "    saleprice.append(i)\n",
    "    roll.append(df2['Id'][index])\n",
    "\n",
    "saleprice = pd.DataFrame(saleprice, columns=['SalePrice'])\n",
    "roll = pd.DataFrame(roll, columns = ['Id'])\n",
    "submission = pd.concat([roll, saleprice], axis=1)\n",
    "submission.to_csv('submissions.csv', index=False)"
   ]
  },
  {
   "cell_type": "code",
   "execution_count": 172,
   "metadata": {},
   "outputs": [
    {
     "data": {
      "text/plain": [
       "SalePrice    124081.34\n",
       "Name: 0, dtype: float64"
      ]
     },
     "execution_count": 172,
     "metadata": {},
     "output_type": "execute_result"
    }
   ],
   "source": [
    "saleprice.iloc[0]"
   ]
  },
  {
   "cell_type": "code",
   "execution_count": null,
   "metadata": {},
   "outputs": [],
   "source": []
  }
 ],
 "metadata": {
  "kernelspec": {
   "display_name": "Python 3",
   "language": "python",
   "name": "python3"
  },
  "language_info": {
   "codemirror_mode": {
    "name": "ipython",
    "version": 3
   },
   "file_extension": ".py",
   "mimetype": "text/x-python",
   "name": "python",
   "nbconvert_exporter": "python",
   "pygments_lexer": "ipython3",
   "version": "3.7.6"
  }
 },
 "nbformat": 4,
 "nbformat_minor": 4
}
